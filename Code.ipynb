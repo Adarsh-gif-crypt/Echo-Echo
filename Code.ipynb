{
  "nbformat": 4,
  "nbformat_minor": 0,
  "metadata": {
    "colab": {
      "name": "Untitled0.ipynb",
      "provenance": [],
      "collapsed_sections": [],
      "authorship_tag": "ABX9TyNB4nojiXy1GajNv/sNdBgp",
      "include_colab_link": true
    },
    "kernelspec": {
      "name": "python3",
      "display_name": "Python 3"
    },
    "language_info": {
      "name": "python"
    }
  },
  "cells": [
    {
      "cell_type": "markdown",
      "metadata": {
        "id": "view-in-github",
        "colab_type": "text"
      },
      "source": [
        "<a href=\"https://colab.research.google.com/github/Adarsh-gif-crypt/Echo-Echo/blob/main/Code.ipynb\" target=\"_parent\"><img src=\"https://colab.research.google.com/assets/colab-badge.svg\" alt=\"Open In Colab\"/></a>"
      ]
    },
    {
      "cell_type": "markdown",
      "source": [
        "### Camels and Banananas"
      ],
      "metadata": {
        "id": "jtE9NGIVpE7u"
      }
    },
    {
      "cell_type": "code",
      "source": [
        "total= 3000\n",
        "distance= 1000\n",
        "load_capacity= 1000\n",
        "loss=0\n",
        "init=total\n",
        "for i in range(distance):\n",
        " while init>0:\n",
        "    init=init-load_capacity\n",
        "    if init==1:\n",
        "            loss=loss-1\n",
        "    loss=loss+2\n",
        " loss=loss-1\n",
        " init=total-loss\n",
        " if init==0:\n",
        "    break\n",
        "print('Final Amount of Bananas at the destination :',start)\n"
      ],
      "metadata": {
        "id": "ywaqDpxXpEQe"
      },
      "execution_count": null,
      "outputs": []
    },
    {
      "cell_type": "markdown",
      "source": [
        "### Three Jug Problem"
      ],
      "metadata": {
        "id": "p1eabk6qpQgj"
      }
    },
    {
      "cell_type": "code",
      "source": [
        "capacity = (12,8,5) \n",
        "# Maximum capacities of 3 jugs -> x,y,z\n",
        "x = capacity[0]\n",
        "y = capacity[1]\n",
        "z = capacity[2]\n",
        "\n",
        "# to mark visited states\n",
        "memory = {}\n",
        "\n",
        "# store solution path\n",
        "ans = []\n",
        "\n",
        "def get_all_states(state):\n",
        "\t# Let the 3 jugs be called a,b,c\n",
        "\ta = state[0]\n",
        "\tb = state[1]\n",
        "\tc = state[2]\n",
        "\n",
        "\tif(a==6 and b==6):\n",
        "\t\tans.append(state)\n",
        "\t\treturn True\n",
        "\n",
        "\t# if current state is already visited earlier\n",
        "\tif((a,b,c) in memory):\n",
        "\t\treturn False\n",
        "\n",
        "\tmemory[(a,b,c)] = 1\n",
        "\n",
        "\t#empty jug a\n",
        "\tif(a>0):\n",
        "\t\t#empty a into b\n",
        "\t\tif(a+b<=y):\n",
        "\t\t\tif( get_all_states((0,a+b,c)) ):\n",
        "\t\t\t\tans.append(state)\n",
        "\t\t\t\treturn True\n",
        "\t\telse:\n",
        "\t\t\tif( get_all_states((a-(y-b), y, c)) ):\n",
        "\t\t\t\tans.append(state)\n",
        "\t\t\t\treturn True\n",
        "\t\t#empty a into c\n",
        "\t\tif(a+c<=z):\n",
        "\t\t\tif( get_all_states((0,b,a+c)) ):\n",
        "\t\t\t\tans.append(state)\n",
        "\t\t\t\treturn True\n",
        "\t\telse:\n",
        "\t\t\tif( get_all_states((a-(z-c), b, z)) ):\n",
        "\t\t\t\tans.append(state)\n",
        "\t\t\t\treturn True\n",
        "\n",
        "\t#empty jug b\n",
        "\tif(b>0):\n",
        "\t\t#empty b into a\n",
        "\t\tif(a+b<=x):\n",
        "\t\t\tif( get_all_states((a+b, 0, c)) ):\n",
        "\t\t\t\tans.append(state)\n",
        "\t\t\t\treturn True\n",
        "\t\telse:\n",
        "\t\t\tif( get_all_states((x, b-(x-a), c)) ):\n",
        "\t\t\t\tans.append(state)\n",
        "\t\t\t\treturn True\n",
        "\t\t#empty b into c\n",
        "\t\tif(b+c<=z):\n",
        "\t\t\tif( get_all_states((a, 0, b+c)) ):\n",
        "\t\t\t\tans.append(state)\n",
        "\t\t\t\treturn True\n",
        "\t\telse:\n",
        "\t\t\tif( get_all_states((a, b-(z-c), z)) ):\n",
        "\t\t\t\tans.append(state)\n",
        "\t\t\t\treturn True\n",
        "\n",
        "\t#empty jug c\n",
        "\tif(c>0):\n",
        "\t\t#empty c into a\n",
        "\t\tif(a+c<=x):\n",
        "\t\t\tif( get_all_states((a+c, b, 0)) ):\n",
        "\t\t\t\tans.append(state)\n",
        "\t\t\t\treturn True\n",
        "\t\telse:\n",
        "\t\t\tif( get_all_states((x, b, c-(x-a))) ):\n",
        "\t\t\t\tans.append(state)\n",
        "\t\t\t\treturn True\n",
        "\t\t#empty c into b\n",
        "\t\tif(b+c<=y):\n",
        "\t\t\tif( get_all_states((a, b+c, 0)) ):\n",
        "\t\t\t\tans.append(state)\n",
        "\t\t\t\treturn True\n",
        "\t\telse:\n",
        "\t\t\tif( get_all_states((a, y, c-(y-b))) ):\n",
        "\t\t\t\tans.append(state)\n",
        "\t\t\t\treturn True\n",
        "\n",
        "\treturn False\n",
        "\n",
        "initial_state = (12,0,0)\n",
        "print('Initiating Problem.... \\n')\n",
        "get_all_states(initial_state)\n",
        "ans.reverse()\n",
        "for i in ans:\n",
        "\tprint(i)"
      ],
      "metadata": {
        "id": "kPZ8CIMhpS4t"
      },
      "execution_count": null,
      "outputs": []
    },
    {
      "cell_type": "markdown",
      "source": [
        "### Towers of Hanoi\n",
        "\n",
        "This solution is for picking up all three disks and and putting them on top of each other size wise on the third rod\n",
        "<br>\n",
        "![image](https://media.geeksforgeeks.org/wp-content/uploads/tower-of-hanoi.png)"
      ],
      "metadata": {
        "id": "Um1Rbet-pwVc"
      }
    },
    {
      "cell_type": "code",
      "source": [
        "\n",
        "# Recursive Python function to solve tower of hanoi\n",
        " \n",
        "def TowerOfHanoi(n , from_rod, to_rod, aux_rod):\n",
        "    if n == 0:\n",
        "        return\n",
        "    TowerOfHanoi(n-1, from_rod, aux_rod, to_rod)\n",
        "    print(\"Move disk\",n,\"from rod\",from_rod,\"to rod\",to_rod)\n",
        "    TowerOfHanoi(n-1, aux_rod, to_rod, from_rod)\n",
        "         \n",
        "# Driver code\n",
        "n = 4\n",
        "TowerOfHanoi(n, 'A', 'C', 'B')\n",
        "# A, C, B are the name of rods"
      ],
      "metadata": {
        "id": "YMbIPYA_pyJE"
      },
      "execution_count": null,
      "outputs": []
    },
    {
      "cell_type": "markdown",
      "source": [
        "### C++"
      ],
      "metadata": {
        "id": "Dlk0GmuCpzSk"
      }
    },
    {
      "cell_type": "code",
      "source": [
        "// C++ recursive function to\n",
        "// solve tower of hanoi puzzle\n",
        "#include <bits/stdc++.h>\n",
        "using namespace std;\n",
        " \n",
        "void towerOfHanoi(int n, char from_rod,\n",
        "                    char to_rod, char aux_rod)\n",
        "{\n",
        "    if (n == 0)\n",
        "    {\n",
        "        return;\n",
        "    }\n",
        "    towerOfHanoi(n - 1, from_rod, aux_rod, to_rod);\n",
        "    cout << \"Move disk \" << n << \" from rod \" << from_rod <<\n",
        "                                \" to rod \" << to_rod << endl;\n",
        "    towerOfHanoi(n - 1, aux_rod, to_rod, from_rod);\n",
        "}\n",
        " \n",
        "// Driver code\n",
        "int main()\n",
        "{\n",
        "    int n = 4; // Number of disks\n",
        "    towerOfHanoi(n, 'A', 'C', 'B'); // A, B and C are names of rods\n",
        "    return 0;\n",
        "}"
      ],
      "metadata": {
        "id": "7JZeavL3p1g0"
      },
      "execution_count": null,
      "outputs": []
    },
    {
      "cell_type": "markdown",
      "source": [
        "### Travelling Salesman"
      ],
      "metadata": {
        "id": "pBIyELO_m7Rf"
      }
    },
    {
      "cell_type": "code",
      "execution_count": null,
      "metadata": {
        "id": "rWSNlHdMmgh0"
      },
      "outputs": [],
      "source": [
        "from sys import maxsize\n",
        "from itertools import permutations\n",
        "V = 4\n",
        "def travellingsalesmanproblem(graph, s):\n",
        "    vertex =[]\n",
        "    for i in range(V):\n",
        "        if i != s:\n",
        "            vertex.append(i)\n",
        "\n",
        "    min_path = maxsize\n",
        "    next_permutation = permutations(vertex)\n",
        "    for i in next_permutation:\n",
        "\n",
        "        current_pathwight = 0\n",
        "\n",
        "        k = s \n",
        "        for j in i:\n",
        "            current_pathwight += graph[k][j]\n",
        "            k = j\n",
        "        current_pathwight += graph[k][s]\n",
        "        min_path = min(min_path, current_pathwight)\n",
        "    return min_path\n",
        "\n",
        "if __name__  == \"__main__\":\n",
        "\n",
        "    graph = [[0, 13, 20 , 22], [13, 0 , 35, 15], [20, 35, 0 , 29], [22, 15, 29, 0]]\n",
        "    s = 0\n",
        "    print(travellingsalesmanproblem(graph, s))"
      ]
    },
    {
      "cell_type": "markdown",
      "source": [
        "### Medical Diagnosis using If-Else statements"
      ],
      "metadata": {
        "id": "XI4zn5oqm99G"
      }
    },
    {
      "cell_type": "code",
      "source": [
        "fever = input('Do you have Fever? (y/n) : ')\n",
        "nose = input('Do you have a stuffy nose? (y/n) :')\n",
        "smaste = input('Can you taste and smell? (y/n) :')\n",
        "throat = input('Do you have sore throat/Does your throat hurt? (y/n) :')\n",
        "body = input('Do you have any body ache? (y/n) :')\n",
        "cough = input('Do you have cough? (y/n) :')\n",
        "\n",
        "if fever=='n' and nose=='n' and smaste=='n' and throat=='n' and body=='n' and cough=='n':\n",
        "    print('Diagnosis: You are completely fine')\n",
        "elif fever=='y'and nose=='n' and smaste=='n' and throat=='n' and body=='n' and cough=='n':\n",
        "    print('Diagnosis: You have a fever. Paracetamol Prescribed')\n",
        "elif fever=='y' and nose=='y' and smaste=='n' and throat=='n' and body=='n' and cough=='n':\n",
        "    print('Diagnosis: You have a cold. Combiflam prescried')\n",
        "elif fever=='y' and nose=='y'and smaste=='y' and throat=='n' and body=='n' and cough=='n':\n",
        "    print('Diagnosis: You might have COVID. Please get tested and till then isolate yourself.')\n",
        "elif fever=='y' and nose=='y'and smaste=='y' and throat=='y' and body=='n' and cough=='n':\n",
        "    print('Diagnosis: Chances of having COVID are high. Immedieately Consult your doctor and get tested.')\n",
        "elif fever=='y' and nose=='y'and smaste=='y' and throat=='y' and body=='y' and cough=='n':\n",
        "    print('Diagnosis: High chances of COVID. Please Isolate yourself immediately and consult your doctor')\n",
        "elif fever=='y' and nose=='y'and smaste=='n' and throat=='y' and body=='y' and cough=='y':\n",
        "    print('Diagnosis: You have COVID. Please isolate yourself and get in touch with your doctor immedieately.')\n",
        "elif fever=='y' and nose=='y'and smaste=='n' and throat=='y' and body=='y' and cough=='y':\n",
        "    print('Diagnosis: You have the flu. Please consult your doctor. Tamiflu prescribed')\n",
        "elif fever=='n' and nose=='n'and smaste=='n' and throat=='y' and body=='n' and cough=='y':\n",
        "    print('Diagnosis: You have a throat infection. Please consult an ENT Doctor immediately')\n",
        "elif fever=='n' and nose=='n'and smaste=='n' and throat=='n' and body=='y' and cough=='n':\n",
        "    freq = input('Is the body pain in a specific part or throught the body? \\n (specific/throughout) :')\n",
        "    if freq=='specific':\n",
        "        print('You can use any analgesic(pain relieving) ointment on the affected area')\n",
        "    else:\n",
        "        print('Body pain throughout the body is a sign of early onsent of Arthritis. \\n Please consult a physiotherapist')"
      ],
      "metadata": {
        "id": "w_7iJSq4nE1a"
      },
      "execution_count": null,
      "outputs": []
    },
    {
      "cell_type": "markdown",
      "source": [
        "### Room Coloring Problem"
      ],
      "metadata": {
        "id": "s6VUN3cynGu1"
      }
    },
    {
      "cell_type": "code",
      "source": [
        "class Graph():\n",
        " \n",
        "    def __init__(self, vertices):\n",
        "        self.V = vertices\n",
        "        self.graph = [[0 for column in range(vertices)]\\\n",
        "                              for row in range(vertices)]\n",
        " \n",
        "    def isSafe(self, v, colour, c):\n",
        "        for i in range(self.V):\n",
        "            if self.graph[v][i] == 1 and colour[i] == c:\n",
        "                return False\n",
        "        return True\n",
        "     \n",
        "    def graphColourUtil(self, m, colour, v):\n",
        "        if v == self.V:\n",
        "            return True\n",
        " \n",
        "        for c in range(1, m + 1):\n",
        "            if self.isSafe(v, colour, c) == True:\n",
        "                colour[v] = c\n",
        "                if self.graphColourUtil(m, colour, v + 1) == True:\n",
        "                    return True\n",
        "                colour[v] = 0\n",
        " \n",
        "    def graphColouring(self, m):\n",
        "        colour = [0] * self.V\n",
        "        if self.graphColourUtil(m, colour, 0) == None:\n",
        "            return False\n",
        " \n",
        "        print (\"Solution exists. Following are the assigned colours: \")\n",
        "        for c in colour:\n",
        "            print (c,end=' ')\n",
        "        return True\n",
        " \n",
        "g = Graph(4)\n",
        "g.graph = [[0, 1, 1, 1], [1, 0, 1, 0], [1, 1, 0, 1], [1, 0, 1, 0]]\n",
        "m = 3\n",
        "g.graphColouring(m)"
      ],
      "metadata": {
        "id": "ZvrEVRQ1nNvn"
      },
      "execution_count": null,
      "outputs": []
    },
    {
      "cell_type": "markdown",
      "source": [
        "### Sudoku Solver"
      ],
      "metadata": {
        "id": "dwol0tbsnXxN"
      }
    },
    {
      "cell_type": "code",
      "source": [
        "# nxn mat\n",
        "\n",
        "def printmat(arr):\n",
        "    for i in range(6):\n",
        "        for j in range(6):\n",
        "            print(arr[i][j])\n",
        "        print('\\n')\n",
        "    \n",
        "def empty_locs(arr, l):\n",
        "    for row in range(6):\n",
        "        for col in range(6):\n",
        "            if(arr[row][col] == 0):\n",
        "                l[0]=row\n",
        "                l[1]=col\n",
        "                return True\n",
        "    return False\n",
        "\n",
        "def used_index_row(arr, row, num):\n",
        "    for i in range(6):\n",
        "        if(arr[row][i]==num):\n",
        "            return True\n",
        "    return False\n",
        "\n",
        "def used_index_col(arr, col, num):\n",
        "    for i in range(6):\n",
        "        if(arr[col][i] == num):\n",
        "            return True\n",
        "    return False\n",
        "\n",
        "def used_in_box(arr, row, col, num):\n",
        "    for i in range(2):\n",
        "        for j in range(3):\n",
        "            if(arr[i+row][j+col] == num):\n",
        "                return True\n",
        "    return False\n",
        "\n",
        "def check_location_is_safe(arr, row, col, num):\n",
        "    return not used_index_row(arr, row, num) and not used_index_col(arr, col, num) and not used_in_box(arr, row - row % 2, col - col % 3, num)\n",
        "\n",
        "def solver(arr):\n",
        "    l=[0,0]\n",
        "\n",
        "    if(not empty_locs(arr,l)):\n",
        "        return True\n",
        "    \n",
        "    row = [0]\n",
        "    col = [1]\n",
        "\n",
        "    for num in range(1,7):\n",
        "\n",
        "        if(check_location_is_safe(arr,row,col,num)):\n",
        "            arr[row][col] =num\n",
        "\n",
        "\n",
        "        if(solver(arr)):\n",
        "            return True\n",
        "\n",
        "        arr[row][col] = 0\n",
        "\n",
        "    return False\n",
        "\n",
        "if __name__=='__main__':\n",
        "\n",
        "    grid =[[0 for x in range(6)]for y in range(6)]\n",
        "\n",
        "    grid = [[0,0,0,1,0,6],\n",
        "            [6,0,4,0,0,0],\n",
        "            [1,0,2,0,0,0],\n",
        "            [0,0,0,5,0,1],\n",
        "            [0,0,0,6,0,6],\n",
        "            [5,0,6,0,0,0]]\n",
        "\n",
        "    if(solver(grid)):\n",
        "        printmat(grid)\n",
        "    else:\n",
        "        print('No solution exists')"
      ],
      "metadata": {
        "id": "3EDj5YzDniTw"
      },
      "execution_count": null,
      "outputs": []
    },
    {
      "cell_type": "markdown",
      "source": [
        "### Web Crawling using DFS"
      ],
      "metadata": {
        "id": "6BxISgOKnj9t"
      }
    },
    {
      "cell_type": "code",
      "source": [
        "import requests\n",
        "from urllib.request import urljoin\n",
        "from urllib.request import urlparse\n",
        "from bs4 import BeautifulSoup as bs\n",
        "\n",
        "internal_links = set()\n",
        "external_links = set()\n",
        "input_url = input('Enter URL: ')\n",
        "\n",
        "def crawler(input_url):\n",
        "    temp = set()\n",
        "    domain_present = urlparse(input_url).netloc\n",
        "    html_tags = bs(requests.get(input_url).content,'lxml')\n",
        "\n",
        "    for anchor in html_tags.find_all('a'):\n",
        "        href = anchor.attrs.get('href')\n",
        "        if(href!=\"\" or href!=None):\n",
        "            href = urljoin(input_url,href)\n",
        "            href_parsed = urlparse(href)\n",
        "            href = href_parsed.scheme\n",
        "            href += '://'\n",
        "            href += href_parsed.netloc\n",
        "            href += href_parsed.path\n",
        "            final_href = urlparse(href)\n",
        "            valid_url = bool(final_href.scheme) and bool(final_href.netloc)\n",
        "\n",
        "            if valid_url:\n",
        "                if domain_present not in href and href not in external_links:\n",
        "                    print('External Link : {}'.format(href))\n",
        "                    external_links.add(href)\n",
        "                if domain_present in href and href not in internal_links:\n",
        "                    print('Internal Link : {}'.format(href))\n",
        "                    internal_links.add(href)\n",
        "                    temp.add(href)\n",
        "    return temp\n",
        "\n",
        "\n",
        "depth = 1\n",
        "if(depth == 0):\n",
        "    print(\"Starting link : {}\".format(input_url))\n",
        "  \n",
        "elif(depth == 1):\n",
        "    crawler(input_url)\n",
        "  \n",
        "else:\n",
        "    bfs_queue = []\n",
        "    bfs_queue.append(input_url)\n",
        "    for j in range(depth):\n",
        "        for count in range(len(bfs_queue)):\n",
        "            url = bfs_queue.pop(0)\n",
        "            urls = crawler(url)\n",
        "            for i in urls:\n",
        "                bfs_queue.append(i)"
      ],
      "metadata": {
        "id": "oJ93DwmZnn-k"
      },
      "execution_count": null,
      "outputs": []
    },
    {
      "cell_type": "markdown",
      "source": [
        "### A star 8 puzzle problem"
      ],
      "metadata": {
        "id": "aK0xYakLnz-w"
      }
    },
    {
      "cell_type": "code",
      "source": [
        "class Node:\n",
        "    def __init__(self,data,level,fval):\n",
        "        self.data = data\n",
        "        self.level = level\n",
        "        self.fval = fval\n",
        "\n",
        "    def generate_child(self):\n",
        "        x,y = self.find(self.data,'_')\n",
        "        val_list = [[x,y-1],[x,y+1],[x-1,y],[x+1,y]]\n",
        "        children = []\n",
        "        for i in val_list:\n",
        "            child = self.shuffle(self.data,x,y,i[0],i[1])\n",
        "            if child is not None:\n",
        "                child_node = Node(child,self.level+1,0)\n",
        "                children.append(child_node)\n",
        "        return children\n",
        "        \n",
        "    def shuffle(self,puz,x1,y1,x2,y2):\n",
        "\n",
        "        if x2 >= 0 and x2 < len(self.data) and y2 >= 0 and y2 < len(self.data):\n",
        "            temp_puz = []\n",
        "            temp_puz = self.copy(puz)\n",
        "            temp = temp_puz[x2][y2]\n",
        "            temp_puz[x2][y2] = temp_puz[x1][y1]\n",
        "            temp_puz[x1][y1] = temp\n",
        "            return temp_puz\n",
        "        else:\n",
        "            return None\n",
        "            \n",
        "\n",
        "    def copy(self,root):\n",
        "        temp = []\n",
        "        for i in root:\n",
        "            t = []\n",
        "            for j in i:\n",
        "                t.append(j)\n",
        "            temp.append(t)\n",
        "        return temp    \n",
        "            \n",
        "    def find(self,puz,x):\n",
        "        for i in range(0,len(self.data)):\n",
        "            for j in range(0,len(self.data)):\n",
        "                if puz[i][j] == x:\n",
        "                    return i,j\n",
        "\n",
        "\n",
        "class Puzzle:\n",
        "    def __init__(self,size):\n",
        "        self.n = size\n",
        "        self.open = []\n",
        "        self.closed = []\n",
        "\n",
        "    def accept(self):\n",
        "        puz = []\n",
        "        for i in range(0,self.n):\n",
        "            temp = input().split(\" \")\n",
        "            puz.append(temp)\n",
        "        return puz\n",
        "\n",
        "    def f(self,start,goal):\n",
        "        return self.h(start.data,goal)+start.level\n",
        "\n",
        "    def h(self,start,goal):\n",
        "        temp = 0\n",
        "        for i in range(0,self.n):\n",
        "            for j in range(0,self.n):\n",
        "                if start[i][j] != goal[i][j] and start[i][j] != '_':\n",
        "                    temp += 1\n",
        "        return temp\n",
        "        \n",
        "\n",
        "    def process(self):\n",
        "        print(\"Enter the start state matrix \\n\")\n",
        "        start = self.accept()\n",
        "        print(\"Enter the goal state matrix \\n\")        \n",
        "        goal = self.accept()\n",
        "\n",
        "        start = Node(start,0,0)\n",
        "        start.fval = self.f(start,goal)\n",
        "\n",
        "        self.open.append(start)\n",
        "        print(\"\\n\\n\")\n",
        "        while True:\n",
        "            cur = self.open[0]\n",
        "            print(\"\")\n",
        "            print(\"  | \")\n",
        "            print(\"  | \")\n",
        "            print(\" \\\\\\'/ \\n\")\n",
        "            for i in cur.data:\n",
        "                for j in i:\n",
        "                    print(j,end=\" \")\n",
        "                print(\"\")\n",
        "           \n",
        "            if(self.h(cur.data,goal) == 0):\n",
        "                break\n",
        "            for i in cur.generate_child():\n",
        "                i.fval = self.f(i,goal)\n",
        "                self.open.append(i)\n",
        "            self.closed.append(cur)\n",
        "            del self.open[0]\n",
        "\n",
        "            \"\"\" sort the opne list based on f value \"\"\"\n",
        "            self.open.sort(key = lambda x:x.fval,reverse=False)\n",
        "\n",
        "\n",
        "puz = Puzzle(3)\n",
        "puz.process()"
      ],
      "metadata": {
        "id": "oL68L20En2Sz"
      },
      "execution_count": null,
      "outputs": []
    },
    {
      "cell_type": "markdown",
      "source": [
        "### Best First in a Graph"
      ],
      "metadata": {
        "id": "7uTZcPwGn5mF"
      }
    },
    {
      "cell_type": "code",
      "source": [
        "from queue import PriorityQueue\n",
        "import networkx as nx\n",
        "\n",
        "\n",
        "def best_first_search(source, target, n):\n",
        "    visited = [0] * n\n",
        "    visited[source] = True\n",
        "    pq = PriorityQueue()\n",
        "    pq.put((0, source))\n",
        "    while pq.empty() == False:\n",
        "        u = pq.get()[1]\n",
        "        print(u, end=\" --> \") \n",
        "        if u == target:\n",
        "            break\n",
        "\n",
        "        for v, c in graph[u]:\n",
        "            if visited[v] == False:\n",
        "                visited[v] = True\n",
        "                pq.put((c, v))\n",
        "    print()\n",
        "\n",
        "\n",
        "def addedge(x, y, cost):\n",
        "    graph[x].append((y, cost))\n",
        "    graph[y].append((x, cost))\n",
        "\n",
        "G = nx.Graph()\n",
        "v = int(input(\"Enter the number of nodes: \"))\n",
        "graph = [[] for i in range(v)]\n",
        "e = int(input(\"Enter the number of edges: \"))\n",
        "print(\"Enter the edges along with their costs:\")\n",
        "for i in range(e):\n",
        "    x, y, z = list(map(int, input().split()))\n",
        "    addedge(x, y, z)\n",
        "    G.add_edge(x, y, weight = z)\n",
        "\n",
        "source = int(input(\"Enter the Source Node: \"))\n",
        "target = int(input(\"Enter the Target/Destination Node: \"))\n",
        "print(\"\\nPath: \", end = \"\")\n",
        "best_first_search(source, target, v)"
      ],
      "metadata": {
        "id": "CehzxvpOn_5J"
      },
      "execution_count": null,
      "outputs": []
    },
    {
      "cell_type": "markdown",
      "source": [
        "### C++"
      ],
      "metadata": {
        "id": "Ad7YKiNUoQbV"
      }
    },
    {
      "cell_type": "code",
      "source": [
        "from queue import PriorityQueue\n",
        "import networkx as nx\n",
        "\n",
        "\n",
        "def best_first_search(source, target, n):\n",
        "    visited = [0] * n\n",
        "    visited[source] = True\n",
        "    pq = PriorityQueue()\n",
        "    pq.put((0, source))\n",
        "    while pq.empty() == False:\n",
        "        u = pq.get()[1]\n",
        "        print(u, end=\" --> \") \n",
        "        if u == target:\n",
        "            break\n",
        "\n",
        "        for v, c in graph[u]:\n",
        "            if visited[v] == False:\n",
        "                visited[v] = True\n",
        "                pq.put((c, v))\n",
        "    print()\n",
        "\n",
        "\n",
        "def addedge(x, y, cost):\n",
        "    graph[x].append((y, cost))\n",
        "    graph[y].append((x, cost))\n",
        "\n",
        "G = nx.Graph()\n",
        "v = int(input(\"Enter the number of nodes: \"))\n",
        "graph = [[] for i in range(v)]\n",
        "e = int(input(\"Enter the number of edges: \"))\n",
        "print(\"Enter the edges along with their costs:\")\n",
        "for i in range(e):\n",
        "    x, y, z = list(map(int, input().split()))\n",
        "    addedge(x, y, z)\n",
        "    G.add_edge(x, y, weight = z)\n",
        "\n",
        "source = int(input(\"Enter the Source Node: \"))\n",
        "target = int(input(\"Enter the Target/Destination Node: \"))\n",
        "print(\"\\nPath: \", end = \"\")\n",
        "best_first_search(source, target, v)"
      ],
      "metadata": {
        "id": "X716JfMloDAc"
      },
      "execution_count": null,
      "outputs": []
    },
    {
      "cell_type": "markdown",
      "source": [
        "### Unification and Resolution both knowledge base"
      ],
      "metadata": {
        "id": "xXY8uXiooYmM"
      }
    },
    {
      "cell_type": "code",
      "source": [
        "# Employee.pl\n",
        "employees(001,name(Joe),address(France)).\n",
        "employees(002,name(Candice),address(Canada)).\n",
        "employees(003,name(Mugabe),address(Germany)).\n",
        "employees(004,name(John),address(Arizona)).\n",
        "employees(005,name(Ryan),address(Mexico)).\n",
        "employees(006,name(Roy),address(Texas)).\n",
        "\n",
        "\n",
        "# Hobbies.pl\n",
        "person(ali,20).\n",
        "person(bob,20).\n",
        "person(cal,25).\n",
        "\n",
        "hobby(ali,skiing).\n",
        "hobby(bob,skiing).\n",
        "hobby(cal,skiing).\n",
        "\n",
        "friends(P1,P2):-\n",
        "    hobby(P1,H),\n",
        "    hobby(P2,H),\n",
        "    P1\\=P2,\n",
        "    person(P1,A1),\n",
        "    person(P2,A2),\n",
        "    AD is abs(A2-A1),\n",
        "    AD=<3.\n"
      ],
      "metadata": {
        "id": "-flq44nHopsX"
      },
      "execution_count": null,
      "outputs": []
    }
  ]
}